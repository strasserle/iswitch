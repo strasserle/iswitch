{
 "cells": [
  {
   "cell_type": "code",
   "execution_count": 30,
   "metadata": {
    "collapsed": true
   },
   "outputs": [],
   "source": [
    "import os\n",
    "\n",
    "from iswitchpy import *"
   ]
  },
  {
   "cell_type": "code",
   "execution_count": 5,
   "outputs": [
    {
     "name": "stdout",
     "output_type": "stream",
     "text": [
      "Starting isoform switch detection...\n",
      "Obtaining annotation...\n",
      "Number of genes in input: 44200\n",
      "Number of isoforms in input: 181836\n",
      "Number of case samples: 1101\n",
      "Number of control samples: 133\n",
      "CREATING ISOFORM REPORT\n",
      "Calculating gene expression...\n",
      "Making comparisons...\n",
      "Calculating DIF ...\n",
      "Filtering for eligible data...\n"
     ]
    },
    {
     "name": "stderr",
     "output_type": "stream",
     "text": [
      "/big/st/strasserl/iswitch/iswitchpy/venv_iswitchpy/lib64/python3.6/site-packages/pandas/core/series.py:726: RuntimeWarning: invalid value encountered in log2\n",
      "  result = getattr(ufunc, method)(*inputs, **kwargs)\n"
     ]
    },
    {
     "name": "stdout",
     "output_type": "stream",
     "text": [
      "Adding switch information...\n",
      "Starting ISA run ...\n",
      "Testing isoform usage\n",
      "CREATING ISA GENE REPORT\n"
     ]
    }
   ],
   "source": [
    "iso_report_isa, switch_report_isa, gene_report_isa = detect_iswitches(method=\"isa\", disease=\"breast invasive carcinoma\")"
   ],
   "metadata": {
    "collapsed": false,
    "pycharm": {
     "name": "#%%\n"
    }
   }
  },
  {
   "cell_type": "code",
   "execution_count": 4,
   "outputs": [
    {
     "name": "stdout",
     "output_type": "stream",
     "text": [
      "Starting isoform switch detection...\n",
      "Obtaining annotation...\n",
      "Number of genes in input: 44200\n",
      "Number of isoforms in input: 181836\n",
      "Number of case samples: 1101\n",
      "Number of control samples: 133\n",
      "CREATING ISOFORM REPORT\n",
      "Calculating gene expression...\n",
      "Making comparisons...\n",
      "Calculating DIF ...\n",
      "Filtering for eligible data...\n"
     ]
    },
    {
     "name": "stderr",
     "output_type": "stream",
     "text": [
      "/big/st/strasserl/iswitch/iswitchpy/venv_iswitchpy/lib64/python3.6/site-packages/pandas/core/series.py:726: RuntimeWarning: invalid value encountered in log2\n",
      "  result = getattr(ufunc, method)(*inputs, **kwargs)\n"
     ]
    },
    {
     "name": "stdout",
     "output_type": "stream",
     "text": [
      "Adding switch information...\n",
      "Starting SPADA run ...\n",
      "CREATING SPADA SWITCH REPORT\n"
     ]
    },
    {
     "name": "stderr",
     "output_type": "stream",
     "text": [
      "/big/st/strasserl/iswitch/iswitchpy/iswitchpy.py:219: SettingWithCopyWarning: \n",
      "A value is trying to be set on a copy of a slice from a DataFrame\n",
      "\n",
      "See the caveats in the documentation: https://pandas.pydata.org/pandas-docs/stable/user_guide/indexing.html#returning-a-view-versus-a-copy\n",
      "  spada_out['frac'][index] = frac\n"
     ]
    },
    {
     "name": "stdout",
     "output_type": "stream",
     "text": [
      "CREATING SPADA GENE REPORT\n"
     ]
    }
   ],
   "source": [
    "iso_report_spada, switch_report_spada, gene_report_spada = detect_iswitches(method=\"spada\", disease=\"breast invasive carcinoma\")"
   ],
   "metadata": {
    "collapsed": false,
    "pycharm": {
     "name": "#%%\n"
    }
   }
  },
  {
   "cell_type": "code",
   "execution_count": 10,
   "outputs": [
    {
     "data": {
      "text/plain": "       gene_id         isoform_id  iso_value_1  iso_stderr_1  gene_value_1  \\\n0        HVCN1  ENST00000548312.5    -3.311785      0.071281    -44.954577   \n1        HVCN1  ENST00000547887.1    -9.591236      0.048956    -44.954577   \n2        HVCN1  ENST00000439744.6    -7.652373      0.108285    -44.954577   \n3        HVCN1  ENST00000356742.9    -9.016487      0.062713    -44.954577   \n4        HVCN1  ENST00000546425.1    -1.880504      0.042590    -44.954577   \n...        ...                ...          ...           ...           ...   \n181378     SPR  ENST00000234454.5     5.343233      0.027245      1.283292   \n181516  NYNRIN  ENST00000554505.1    -4.087658      0.129582     -2.306978   \n181517  NYNRIN  ENST00000382554.3     1.780680      0.034034     -2.306978   \n181804  POTEB2  ENST00000454856.4    -9.428382      0.054123    -19.299920   \n181805  POTEB2  ENST00000438063.6    -9.871539      0.017921    -19.299920   \n\n        gene_stderr_1  iso_value_2  iso_stderr_2  gene_value_2  gene_stderr_2  \\\n0            0.288753    -2.983171      0.196043    -43.205421       0.773834   \n1            0.288753    -9.327535      0.194179    -43.205421       0.773834   \n2            0.288753    -7.939713      0.326255    -43.205421       0.773834   \n3            0.288753    -9.042227      0.183874    -43.205421       0.773834   \n4            0.288753    -1.840079      0.134086    -43.205421       0.773834   \n...               ...          ...           ...           ...            ...   \n181378       0.113163     4.620150      0.038531     -1.956092       0.346287   \n181516       0.150151    -1.707837      0.333199      1.117128       0.355760   \n181517       0.150151     2.824965      0.043900      1.117128       0.355760   \n181804       0.059427    -9.668269      0.119649    -19.634069       0.119649   \n181805       0.059427    -9.965800      0.000000    -19.634069       0.119649   \n\n       condition_1 condition_2  iso_log2_fc  gene_log2_fc     IF1     IF2  \\\n0             case     control    -0.150810     -0.057257  0.0737  0.0690   \n1             case     control    -0.040225     -0.057257  0.2134  0.2159   \n2             case     control     0.053187     -0.057257  0.1702  0.1838   \n3             case     control     0.004113     -0.057257  0.2006  0.2093   \n4             case     control    -0.031369     -0.057257  0.0418  0.0426   \n...            ...         ...          ...           ...     ...     ...   \n181378        case     control    -0.209731           NaN  4.1637 -2.3619   \n181516        case     control    -1.259596           NaN  1.7719 -1.5288   \n181517        case     control     0.665505           NaN -0.7719  2.5288   \n181804        case     control     0.036251      0.024766  0.4885  0.4924   \n181805        case     control     0.013712      0.024766  0.5115  0.5076   \n\n           dIF  nrReplicates_1  nrReplicates_2 switchDirection  \n0      -0.0047            1092             113            down  \n1       0.0025            1092             113              up  \n2       0.0136            1092             113              up  \n3       0.0087            1092             113              up  \n4       0.0008            1092             113              up  \n...        ...             ...             ...             ...  \n181378 -6.5256            1092             113            down  \n181516 -3.3007            1092             113            down  \n181517  3.3007            1092             113              up  \n181804  0.0039            1092             113              up  \n181805 -0.0039            1092             113            down  \n\n[158540 rows x 20 columns]",
      "text/html": "<div>\n<style scoped>\n    .dataframe tbody tr th:only-of-type {\n        vertical-align: middle;\n    }\n\n    .dataframe tbody tr th {\n        vertical-align: top;\n    }\n\n    .dataframe thead th {\n        text-align: right;\n    }\n</style>\n<table border=\"1\" class=\"dataframe\">\n  <thead>\n    <tr style=\"text-align: right;\">\n      <th></th>\n      <th>gene_id</th>\n      <th>isoform_id</th>\n      <th>iso_value_1</th>\n      <th>iso_stderr_1</th>\n      <th>gene_value_1</th>\n      <th>gene_stderr_1</th>\n      <th>iso_value_2</th>\n      <th>iso_stderr_2</th>\n      <th>gene_value_2</th>\n      <th>gene_stderr_2</th>\n      <th>condition_1</th>\n      <th>condition_2</th>\n      <th>iso_log2_fc</th>\n      <th>gene_log2_fc</th>\n      <th>IF1</th>\n      <th>IF2</th>\n      <th>dIF</th>\n      <th>nrReplicates_1</th>\n      <th>nrReplicates_2</th>\n      <th>switchDirection</th>\n    </tr>\n  </thead>\n  <tbody>\n    <tr>\n      <th>0</th>\n      <td>HVCN1</td>\n      <td>ENST00000548312.5</td>\n      <td>-3.311785</td>\n      <td>0.071281</td>\n      <td>-44.954577</td>\n      <td>0.288753</td>\n      <td>-2.983171</td>\n      <td>0.196043</td>\n      <td>-43.205421</td>\n      <td>0.773834</td>\n      <td>case</td>\n      <td>control</td>\n      <td>-0.150810</td>\n      <td>-0.057257</td>\n      <td>0.0737</td>\n      <td>0.0690</td>\n      <td>-0.0047</td>\n      <td>1092</td>\n      <td>113</td>\n      <td>down</td>\n    </tr>\n    <tr>\n      <th>1</th>\n      <td>HVCN1</td>\n      <td>ENST00000547887.1</td>\n      <td>-9.591236</td>\n      <td>0.048956</td>\n      <td>-44.954577</td>\n      <td>0.288753</td>\n      <td>-9.327535</td>\n      <td>0.194179</td>\n      <td>-43.205421</td>\n      <td>0.773834</td>\n      <td>case</td>\n      <td>control</td>\n      <td>-0.040225</td>\n      <td>-0.057257</td>\n      <td>0.2134</td>\n      <td>0.2159</td>\n      <td>0.0025</td>\n      <td>1092</td>\n      <td>113</td>\n      <td>up</td>\n    </tr>\n    <tr>\n      <th>2</th>\n      <td>HVCN1</td>\n      <td>ENST00000439744.6</td>\n      <td>-7.652373</td>\n      <td>0.108285</td>\n      <td>-44.954577</td>\n      <td>0.288753</td>\n      <td>-7.939713</td>\n      <td>0.326255</td>\n      <td>-43.205421</td>\n      <td>0.773834</td>\n      <td>case</td>\n      <td>control</td>\n      <td>0.053187</td>\n      <td>-0.057257</td>\n      <td>0.1702</td>\n      <td>0.1838</td>\n      <td>0.0136</td>\n      <td>1092</td>\n      <td>113</td>\n      <td>up</td>\n    </tr>\n    <tr>\n      <th>3</th>\n      <td>HVCN1</td>\n      <td>ENST00000356742.9</td>\n      <td>-9.016487</td>\n      <td>0.062713</td>\n      <td>-44.954577</td>\n      <td>0.288753</td>\n      <td>-9.042227</td>\n      <td>0.183874</td>\n      <td>-43.205421</td>\n      <td>0.773834</td>\n      <td>case</td>\n      <td>control</td>\n      <td>0.004113</td>\n      <td>-0.057257</td>\n      <td>0.2006</td>\n      <td>0.2093</td>\n      <td>0.0087</td>\n      <td>1092</td>\n      <td>113</td>\n      <td>up</td>\n    </tr>\n    <tr>\n      <th>4</th>\n      <td>HVCN1</td>\n      <td>ENST00000546425.1</td>\n      <td>-1.880504</td>\n      <td>0.042590</td>\n      <td>-44.954577</td>\n      <td>0.288753</td>\n      <td>-1.840079</td>\n      <td>0.134086</td>\n      <td>-43.205421</td>\n      <td>0.773834</td>\n      <td>case</td>\n      <td>control</td>\n      <td>-0.031369</td>\n      <td>-0.057257</td>\n      <td>0.0418</td>\n      <td>0.0426</td>\n      <td>0.0008</td>\n      <td>1092</td>\n      <td>113</td>\n      <td>up</td>\n    </tr>\n    <tr>\n      <th>...</th>\n      <td>...</td>\n      <td>...</td>\n      <td>...</td>\n      <td>...</td>\n      <td>...</td>\n      <td>...</td>\n      <td>...</td>\n      <td>...</td>\n      <td>...</td>\n      <td>...</td>\n      <td>...</td>\n      <td>...</td>\n      <td>...</td>\n      <td>...</td>\n      <td>...</td>\n      <td>...</td>\n      <td>...</td>\n      <td>...</td>\n      <td>...</td>\n      <td>...</td>\n    </tr>\n    <tr>\n      <th>181378</th>\n      <td>SPR</td>\n      <td>ENST00000234454.5</td>\n      <td>5.343233</td>\n      <td>0.027245</td>\n      <td>1.283292</td>\n      <td>0.113163</td>\n      <td>4.620150</td>\n      <td>0.038531</td>\n      <td>-1.956092</td>\n      <td>0.346287</td>\n      <td>case</td>\n      <td>control</td>\n      <td>-0.209731</td>\n      <td>NaN</td>\n      <td>4.1637</td>\n      <td>-2.3619</td>\n      <td>-6.5256</td>\n      <td>1092</td>\n      <td>113</td>\n      <td>down</td>\n    </tr>\n    <tr>\n      <th>181516</th>\n      <td>NYNRIN</td>\n      <td>ENST00000554505.1</td>\n      <td>-4.087658</td>\n      <td>0.129582</td>\n      <td>-2.306978</td>\n      <td>0.150151</td>\n      <td>-1.707837</td>\n      <td>0.333199</td>\n      <td>1.117128</td>\n      <td>0.355760</td>\n      <td>case</td>\n      <td>control</td>\n      <td>-1.259596</td>\n      <td>NaN</td>\n      <td>1.7719</td>\n      <td>-1.5288</td>\n      <td>-3.3007</td>\n      <td>1092</td>\n      <td>113</td>\n      <td>down</td>\n    </tr>\n    <tr>\n      <th>181517</th>\n      <td>NYNRIN</td>\n      <td>ENST00000382554.3</td>\n      <td>1.780680</td>\n      <td>0.034034</td>\n      <td>-2.306978</td>\n      <td>0.150151</td>\n      <td>2.824965</td>\n      <td>0.043900</td>\n      <td>1.117128</td>\n      <td>0.355760</td>\n      <td>case</td>\n      <td>control</td>\n      <td>0.665505</td>\n      <td>NaN</td>\n      <td>-0.7719</td>\n      <td>2.5288</td>\n      <td>3.3007</td>\n      <td>1092</td>\n      <td>113</td>\n      <td>up</td>\n    </tr>\n    <tr>\n      <th>181804</th>\n      <td>POTEB2</td>\n      <td>ENST00000454856.4</td>\n      <td>-9.428382</td>\n      <td>0.054123</td>\n      <td>-19.299920</td>\n      <td>0.059427</td>\n      <td>-9.668269</td>\n      <td>0.119649</td>\n      <td>-19.634069</td>\n      <td>0.119649</td>\n      <td>case</td>\n      <td>control</td>\n      <td>0.036251</td>\n      <td>0.024766</td>\n      <td>0.4885</td>\n      <td>0.4924</td>\n      <td>0.0039</td>\n      <td>1092</td>\n      <td>113</td>\n      <td>up</td>\n    </tr>\n    <tr>\n      <th>181805</th>\n      <td>POTEB2</td>\n      <td>ENST00000438063.6</td>\n      <td>-9.871539</td>\n      <td>0.017921</td>\n      <td>-19.299920</td>\n      <td>0.059427</td>\n      <td>-9.965800</td>\n      <td>0.000000</td>\n      <td>-19.634069</td>\n      <td>0.119649</td>\n      <td>case</td>\n      <td>control</td>\n      <td>0.013712</td>\n      <td>0.024766</td>\n      <td>0.5115</td>\n      <td>0.5076</td>\n      <td>-0.0039</td>\n      <td>1092</td>\n      <td>113</td>\n      <td>down</td>\n    </tr>\n  </tbody>\n</table>\n<p>158540 rows × 20 columns</p>\n</div>"
     },
     "execution_count": 10,
     "metadata": {},
     "output_type": "execute_result"
    }
   ],
   "source": [
    "iso_report = iso_report_spada\n",
    "iso_report"
   ],
   "metadata": {
    "collapsed": false,
    "pycharm": {
     "name": "#%%\n"
    }
   }
  },
  {
   "cell_type": "code",
   "execution_count": 42,
   "outputs": [
    {
     "data": {
      "text/plain": "    gene_id    case_transcript  control_transcript\n0   S100A11  ENST00000271638.2   ENST00000478109.1\n0     RPS24  ENST00000360830.8   ENST00000476545.5\n0     RPS24  ENST00000360830.8   ENST00000475468.5\n0     RPS24  ENST00000360830.8   ENST00000613865.4\n0     RPS24  ENST00000360830.8   ENST00000482069.5\n..      ...                ...                 ...\n0      CHPF  ENST00000535926.2   ENST00000373891.2\n0      CHPF  ENST00000535926.2  ENST00000243776.10\n0     CARKD  ENST00000309957.2   ENST00000424185.6\n0     CARKD  ENST00000470164.2   ENST00000424185.6\n0   FAM229B  ENST00000368656.6   ENST00000604268.1\n\n[233 rows x 3 columns]",
      "text/html": "<div>\n<style scoped>\n    .dataframe tbody tr th:only-of-type {\n        vertical-align: middle;\n    }\n\n    .dataframe tbody tr th {\n        vertical-align: top;\n    }\n\n    .dataframe thead th {\n        text-align: right;\n    }\n</style>\n<table border=\"1\" class=\"dataframe\">\n  <thead>\n    <tr style=\"text-align: right;\">\n      <th></th>\n      <th>gene_id</th>\n      <th>case_transcript</th>\n      <th>control_transcript</th>\n    </tr>\n  </thead>\n  <tbody>\n    <tr>\n      <th>0</th>\n      <td>S100A11</td>\n      <td>ENST00000271638.2</td>\n      <td>ENST00000478109.1</td>\n    </tr>\n    <tr>\n      <th>0</th>\n      <td>RPS24</td>\n      <td>ENST00000360830.8</td>\n      <td>ENST00000476545.5</td>\n    </tr>\n    <tr>\n      <th>0</th>\n      <td>RPS24</td>\n      <td>ENST00000360830.8</td>\n      <td>ENST00000475468.5</td>\n    </tr>\n    <tr>\n      <th>0</th>\n      <td>RPS24</td>\n      <td>ENST00000360830.8</td>\n      <td>ENST00000613865.4</td>\n    </tr>\n    <tr>\n      <th>0</th>\n      <td>RPS24</td>\n      <td>ENST00000360830.8</td>\n      <td>ENST00000482069.5</td>\n    </tr>\n    <tr>\n      <th>...</th>\n      <td>...</td>\n      <td>...</td>\n      <td>...</td>\n    </tr>\n    <tr>\n      <th>0</th>\n      <td>CHPF</td>\n      <td>ENST00000535926.2</td>\n      <td>ENST00000373891.2</td>\n    </tr>\n    <tr>\n      <th>0</th>\n      <td>CHPF</td>\n      <td>ENST00000535926.2</td>\n      <td>ENST00000243776.10</td>\n    </tr>\n    <tr>\n      <th>0</th>\n      <td>CARKD</td>\n      <td>ENST00000309957.2</td>\n      <td>ENST00000424185.6</td>\n    </tr>\n    <tr>\n      <th>0</th>\n      <td>CARKD</td>\n      <td>ENST00000470164.2</td>\n      <td>ENST00000424185.6</td>\n    </tr>\n    <tr>\n      <th>0</th>\n      <td>FAM229B</td>\n      <td>ENST00000368656.6</td>\n      <td>ENST00000604268.1</td>\n    </tr>\n  </tbody>\n</table>\n<p>233 rows × 3 columns</p>\n</div>"
     },
     "execution_count": 42,
     "metadata": {},
     "output_type": "execute_result"
    }
   ],
   "source": [
    "switch_report_isa\n"
   ],
   "metadata": {
    "collapsed": false,
    "pycharm": {
     "name": "#%%\n"
    }
   }
  },
  {
   "cell_type": "code",
   "execution_count": 12,
   "outputs": [
    {
     "data": {
      "text/plain": "       gene_id    case_transcript control_transcript\n0          MME  ENST00000460393.5  ENST00000615825.1\n13       SPRY2  ENST00000377102.5  ENST00000377104.3\n14       SPRY2  ENST00000540649.2  ENST00000377104.3\n15     CD300LG  ENST00000588884.1  ENST00000317310.4\n20    PPP1R14A  ENST00000591585.1  ENST00000591291.5\n...        ...                ...                ...\n6336     ESYT1  ENST00000267113.4  ENST00000394048.9\n6337    FBXO33  ENST00000554190.1  ENST00000298097.7\n6354     CLIC6  ENST00000360731.7  ENST00000349499.2\n6360      STX8  ENST00000306357.8  ENST00000574431.5\n6402   KHDRBS3  ENST00000520981.5  ENST00000355849.9\n\n[501 rows x 3 columns]",
      "text/html": "<div>\n<style scoped>\n    .dataframe tbody tr th:only-of-type {\n        vertical-align: middle;\n    }\n\n    .dataframe tbody tr th {\n        vertical-align: top;\n    }\n\n    .dataframe thead th {\n        text-align: right;\n    }\n</style>\n<table border=\"1\" class=\"dataframe\">\n  <thead>\n    <tr style=\"text-align: right;\">\n      <th></th>\n      <th>gene_id</th>\n      <th>case_transcript</th>\n      <th>control_transcript</th>\n    </tr>\n  </thead>\n  <tbody>\n    <tr>\n      <th>0</th>\n      <td>MME</td>\n      <td>ENST00000460393.5</td>\n      <td>ENST00000615825.1</td>\n    </tr>\n    <tr>\n      <th>13</th>\n      <td>SPRY2</td>\n      <td>ENST00000377102.5</td>\n      <td>ENST00000377104.3</td>\n    </tr>\n    <tr>\n      <th>14</th>\n      <td>SPRY2</td>\n      <td>ENST00000540649.2</td>\n      <td>ENST00000377104.3</td>\n    </tr>\n    <tr>\n      <th>15</th>\n      <td>CD300LG</td>\n      <td>ENST00000588884.1</td>\n      <td>ENST00000317310.4</td>\n    </tr>\n    <tr>\n      <th>20</th>\n      <td>PPP1R14A</td>\n      <td>ENST00000591585.1</td>\n      <td>ENST00000591291.5</td>\n    </tr>\n    <tr>\n      <th>...</th>\n      <td>...</td>\n      <td>...</td>\n      <td>...</td>\n    </tr>\n    <tr>\n      <th>6336</th>\n      <td>ESYT1</td>\n      <td>ENST00000267113.4</td>\n      <td>ENST00000394048.9</td>\n    </tr>\n    <tr>\n      <th>6337</th>\n      <td>FBXO33</td>\n      <td>ENST00000554190.1</td>\n      <td>ENST00000298097.7</td>\n    </tr>\n    <tr>\n      <th>6354</th>\n      <td>CLIC6</td>\n      <td>ENST00000360731.7</td>\n      <td>ENST00000349499.2</td>\n    </tr>\n    <tr>\n      <th>6360</th>\n      <td>STX8</td>\n      <td>ENST00000306357.8</td>\n      <td>ENST00000574431.5</td>\n    </tr>\n    <tr>\n      <th>6402</th>\n      <td>KHDRBS3</td>\n      <td>ENST00000520981.5</td>\n      <td>ENST00000355849.9</td>\n    </tr>\n  </tbody>\n</table>\n<p>501 rows × 3 columns</p>\n</div>"
     },
     "execution_count": 12,
     "metadata": {},
     "output_type": "execute_result"
    }
   ],
   "source": [
    "switch_report_spada"
   ],
   "metadata": {
    "collapsed": false,
    "pycharm": {
     "name": "#%%\n"
    }
   }
  },
  {
   "cell_type": "code",
   "execution_count": 22,
   "outputs": [
    {
     "data": {
      "text/plain": "      gene_id  switch_count\n0       RPS24            17\n1   NME1-NME2            16\n2       RPS13            14\n3      TMEM59             8\n4       RPS25             8\n..        ...           ...\n69    FAM229B             1\n70     C4orf3             1\n71     MAP3K1             1\n72      BICD2             1\n73      HTRA3             1\n\n[74 rows x 2 columns]",
      "text/html": "<div>\n<style scoped>\n    .dataframe tbody tr th:only-of-type {\n        vertical-align: middle;\n    }\n\n    .dataframe tbody tr th {\n        vertical-align: top;\n    }\n\n    .dataframe thead th {\n        text-align: right;\n    }\n</style>\n<table border=\"1\" class=\"dataframe\">\n  <thead>\n    <tr style=\"text-align: right;\">\n      <th></th>\n      <th>gene_id</th>\n      <th>switch_count</th>\n    </tr>\n  </thead>\n  <tbody>\n    <tr>\n      <th>0</th>\n      <td>RPS24</td>\n      <td>17</td>\n    </tr>\n    <tr>\n      <th>1</th>\n      <td>NME1-NME2</td>\n      <td>16</td>\n    </tr>\n    <tr>\n      <th>2</th>\n      <td>RPS13</td>\n      <td>14</td>\n    </tr>\n    <tr>\n      <th>3</th>\n      <td>TMEM59</td>\n      <td>8</td>\n    </tr>\n    <tr>\n      <th>4</th>\n      <td>RPS25</td>\n      <td>8</td>\n    </tr>\n    <tr>\n      <th>...</th>\n      <td>...</td>\n      <td>...</td>\n    </tr>\n    <tr>\n      <th>69</th>\n      <td>FAM229B</td>\n      <td>1</td>\n    </tr>\n    <tr>\n      <th>70</th>\n      <td>C4orf3</td>\n      <td>1</td>\n    </tr>\n    <tr>\n      <th>71</th>\n      <td>MAP3K1</td>\n      <td>1</td>\n    </tr>\n    <tr>\n      <th>72</th>\n      <td>BICD2</td>\n      <td>1</td>\n    </tr>\n    <tr>\n      <th>73</th>\n      <td>HTRA3</td>\n      <td>1</td>\n    </tr>\n  </tbody>\n</table>\n<p>74 rows × 2 columns</p>\n</div>"
     },
     "execution_count": 22,
     "metadata": {},
     "output_type": "execute_result"
    }
   ],
   "source": [
    "gene_report_isa"
   ],
   "metadata": {
    "collapsed": false,
    "pycharm": {
     "name": "#%%\n"
    }
   }
  },
  {
   "cell_type": "code",
   "execution_count": 23,
   "outputs": [
    {
     "data": {
      "text/plain": "     gene_id  switch_count\n0      NTRK2             2\n1      CLDN5             2\n2       CHL1             2\n3     CORO2B             2\n4      MEOX1             2\n..       ...           ...\n486     DLC1             1\n487   PTP4A2             1\n488     DLST             1\n489    PPARG             1\n490  ZFYVE21             1\n\n[491 rows x 2 columns]",
      "text/html": "<div>\n<style scoped>\n    .dataframe tbody tr th:only-of-type {\n        vertical-align: middle;\n    }\n\n    .dataframe tbody tr th {\n        vertical-align: top;\n    }\n\n    .dataframe thead th {\n        text-align: right;\n    }\n</style>\n<table border=\"1\" class=\"dataframe\">\n  <thead>\n    <tr style=\"text-align: right;\">\n      <th></th>\n      <th>gene_id</th>\n      <th>switch_count</th>\n    </tr>\n  </thead>\n  <tbody>\n    <tr>\n      <th>0</th>\n      <td>NTRK2</td>\n      <td>2</td>\n    </tr>\n    <tr>\n      <th>1</th>\n      <td>CLDN5</td>\n      <td>2</td>\n    </tr>\n    <tr>\n      <th>2</th>\n      <td>CHL1</td>\n      <td>2</td>\n    </tr>\n    <tr>\n      <th>3</th>\n      <td>CORO2B</td>\n      <td>2</td>\n    </tr>\n    <tr>\n      <th>4</th>\n      <td>MEOX1</td>\n      <td>2</td>\n    </tr>\n    <tr>\n      <th>...</th>\n      <td>...</td>\n      <td>...</td>\n    </tr>\n    <tr>\n      <th>486</th>\n      <td>DLC1</td>\n      <td>1</td>\n    </tr>\n    <tr>\n      <th>487</th>\n      <td>PTP4A2</td>\n      <td>1</td>\n    </tr>\n    <tr>\n      <th>488</th>\n      <td>DLST</td>\n      <td>1</td>\n    </tr>\n    <tr>\n      <th>489</th>\n      <td>PPARG</td>\n      <td>1</td>\n    </tr>\n    <tr>\n      <th>490</th>\n      <td>ZFYVE21</td>\n      <td>1</td>\n    </tr>\n  </tbody>\n</table>\n<p>491 rows × 2 columns</p>\n</div>"
     },
     "execution_count": 23,
     "metadata": {},
     "output_type": "execute_result"
    }
   ],
   "source": [
    "gene_report_spada"
   ],
   "metadata": {
    "collapsed": false,
    "pycharm": {
     "name": "#%%\n"
    }
   }
  },
  {
   "cell_type": "code",
   "execution_count": 44,
   "outputs": [
    {
     "name": "stdout",
     "output_type": "stream",
     "text": [
      "Isoform Switch Summary\n",
      "------------------------------\n",
      "\n",
      "Number of switches: 233\n",
      "Number of genes involved in switches: 74 (20904)\n",
      "Number of isoforms involved in swtiches: 233\n",
      "Number of switches per gene:\n",
      "    #switches  count\n",
      "0           1     20\n",
      "1           2     26\n",
      "2           3     11\n",
      "3           4      5\n",
      "4           5      2\n",
      "5           6      1\n",
      "6           7      3\n",
      "7           8      3\n",
      "8          14      1\n",
      "9          16      1\n",
      "10         17      1\n",
      "Number of isoforms involved in switches: 282\n"
     ]
    }
   ],
   "source": [
    "summarize_iswitches(iso_report_isa, switch_report_isa)\n",
    "print(\"Number of isoforms involved in switches: \" + str(len(set(switch_report_isa[\"case_transcript\"].append(switch_report_isa[\"control_transcript\"])))))"
   ],
   "metadata": {
    "collapsed": false,
    "pycharm": {
     "name": "#%%\n"
    }
   }
  },
  {
   "cell_type": "code",
   "execution_count": 47,
   "outputs": [
    {
     "name": "stdout",
     "output_type": "stream",
     "text": [
      "Isoform Switch Summary\n",
      "------------------------------\n",
      "\n",
      "Number of switches: 501\n",
      "Number of genes involved in switches: 491 (20904)\n",
      "Number of isoforms involved in swtiches: 501\n",
      "Number of switches per gene:\n",
      "   #switches  count\n",
      "0          1    481\n",
      "1          2     10\n",
      "Number of isoforms involved in switches: 992\n"
     ]
    }
   ],
   "source": [
    "summarize_iswitches(iso_report_spada, switch_report_spada)\n",
    "print(\"Number of isoforms involved in switches: \" + str(len(set(switch_report_spada[\"case_transcript\"].append(switch_report_spada[\"control_transcript\"])))))\n"
   ],
   "metadata": {
    "collapsed": false,
    "pycharm": {
     "name": "#%%\n"
    }
   }
  }
 ],
 "metadata": {
  "kernelspec": {
   "name": "iswitchpy",
   "language": "python",
   "display_name": "Python (iswitchpy)"
  },
  "language_info": {
   "codemirror_mode": {
    "name": "ipython",
    "version": 2
   },
   "file_extension": ".py",
   "mimetype": "text/x-python",
   "name": "python",
   "nbconvert_exporter": "python",
   "pygments_lexer": "ipython2",
   "version": "2.7.6"
  }
 },
 "nbformat": 4,
 "nbformat_minor": 0
}